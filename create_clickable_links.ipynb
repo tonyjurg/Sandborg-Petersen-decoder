{
 "cells": [
  {
   "cell_type": "markdown",
   "id": "446b80bf-9bf5-437a-b85b-c08e5bf61d40",
   "metadata": {},
   "source": [
    "# Create clickable links to SP decoder"
   ]
  },
  {
   "cell_type": "markdown",
   "id": "44e0dd16-ca2d-446f-9d76-6f0377875f4c",
   "metadata": {},
   "source": [
    "This is a small snippet of Python showing how to create clickable links to online decode SP morphological tags."
   ]
  },
  {
   "cell_type": "code",
   "execution_count": 1,
   "id": "07ef3b06-72fa-48a4-83e7-9aa7c6c35de2",
   "metadata": {},
   "outputs": [
    {
     "data": {
      "text/html": [
       "<table border=\"1\" class=\"dataframe\">\n",
       "  <thead>\n",
       "    <tr style=\"text-align: right;\">\n",
       "      <th>Word</th>\n",
       "      <th>Tag</th>\n",
       "    </tr>\n",
       "  </thead>\n",
       "  <tbody>\n",
       "    <tr>\n",
       "      <td>Βίβλος</td>\n",
       "      <td><a href=\"https://tonyjurg.github.io/Sandborg-Petersen-decoder/?tag=N-NSF\" target=\"decoder\">N-NSF</a></td>\n",
       "    </tr>\n",
       "    <tr>\n",
       "      <td>λόγος</td>\n",
       "      <td><a href=\"https://tonyjurg.github.io/Sandborg-Petersen-decoder/?tag=N-NSM\" target=\"decoder\">N-NSM</a></td>\n",
       "    </tr>\n",
       "  </tbody>\n",
       "</table>"
      ],
      "text/plain": [
       "<IPython.core.display.HTML object>"
      ]
     },
     "execution_count": 1,
     "metadata": {},
     "output_type": "execute_result"
    }
   ],
   "source": [
    "import pandas as pd\n",
    "from IPython.display import HTML\n",
    "\n",
    "base_url = \"https://tonyjurg.github.io/Sandborg-Petersen-decoder/?tag=\"\n",
    "\n",
    "# Simple example data\n",
    "results = [\n",
    "    (\"Βίβλος\", \"N-NSF\"),\n",
    "    (\"λόγος\",  \"N-NSM\"),\n",
    "]\n",
    "\n",
    "# Build dataframe\n",
    "df = pd.DataFrame(results, columns=[\"Word\", \"Tag\"])\n",
    "# Embed clickable HTML links in the 'Tag' column\n",
    "df[\"Tag\"] = df[\"Tag\"].apply(lambda tag: f'<a href=\"{base_url}{tag}\" target=\"decoder\">{tag}</a>')\n",
    "\n",
    "# Display as an HTML table with clickable links\n",
    "HTML(df.to_html(escape=False, index=False))"
   ]
  },
  {
   "cell_type": "markdown",
   "id": "7756012f-ff92-4e05-b1eb-00d46b3869ae",
   "metadata": {},
   "source": [
    "To see the actual created HTML code:"
   ]
  },
  {
   "cell_type": "code",
   "execution_count": 2,
   "id": "b8931127-60c7-4713-9fd5-51791f8bd889",
   "metadata": {},
   "outputs": [
    {
     "name": "stdout",
     "output_type": "stream",
     "text": [
      "<table border=\"1\" class=\"dataframe\">\n",
      "  <thead>\n",
      "    <tr style=\"text-align: right;\">\n",
      "      <th>Word</th>\n",
      "      <th>Tag</th>\n",
      "    </tr>\n",
      "  </thead>\n",
      "  <tbody>\n",
      "    <tr>\n",
      "      <td>Βίβλος</td>\n",
      "      <td><a href=\"https://tonyjurg.github.io/Sandborg-Petersen-decoder/?tag=N-NSF\" target=\"decoder\">N-NSF</a></td>\n",
      "    </tr>\n",
      "    <tr>\n",
      "      <td>λόγος</td>\n",
      "      <td><a href=\"https://tonyjurg.github.io/Sandborg-Petersen-decoder/?tag=N-NSM\" target=\"decoder\">N-NSM</a></td>\n",
      "    </tr>\n",
      "  </tbody>\n",
      "</table>\n"
     ]
    }
   ],
   "source": [
    "print(HTML(df.to_html(escape=False, index=False)).data)"
   ]
  },
  {
   "cell_type": "code",
   "execution_count": null,
   "id": "f26acfcd-d967-41ea-b954-5a6c76849c88",
   "metadata": {},
   "outputs": [],
   "source": []
  },
  {
   "cell_type": "markdown",
   "id": "53e35d99-2c58-4bc1-a9b2-483f71b06451",
   "metadata": {},
   "source": [
    "# Notebook version\n",
    "\n",
    "<div style=\"float: left;\">\n",
    "  <table>\n",
    "    <tr>\n",
    "      <td><strong>Author</strong></td>\n",
    "      <td>Tony Jurg</td>\n",
    "    </tr>\n",
    "    <tr>\n",
    "      <td><strong>Version</strong></td>\n",
    "      <td>1.0</td>\n",
    "    </tr>\n",
    "    <tr>\n",
    "      <td><strong>Date</strong></td>\n",
    "      <td>26 May 2025</td>\n",
    "    </tr>\n",
    "  </table>\n",
    "</div>"
   ]
  }
 ],
 "metadata": {
  "kernelspec": {
   "display_name": "Python [conda env:base]",
   "language": "python",
   "name": "conda-base-py"
  },
  "language_info": {
   "codemirror_mode": {
    "name": "ipython",
    "version": 3
   },
   "file_extension": ".py",
   "mimetype": "text/x-python",
   "name": "python",
   "nbconvert_exporter": "python",
   "pygments_lexer": "ipython3",
   "version": "3.12.3"
  }
 },
 "nbformat": 4,
 "nbformat_minor": 5
}
